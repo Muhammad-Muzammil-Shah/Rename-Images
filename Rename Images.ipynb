{
 "cells": [
  {
   "cell_type": "code",
   "execution_count": 4,
   "id": "e0ccbfeb-9d54-4371-a184-2568ed35cec1",
   "metadata": {},
   "outputs": [
    {
     "name": "stdout",
     "output_type": "stream",
     "text": [
      "Error: [WinError 183] Cannot create a file when that file already exists: 'pic\\\\10.jpg' -> 'pic\\\\2.jpg'\n"
     ]
    }
   ],
   "source": [
    "import os\n",
    "\n",
    "def rename_images_to_numbers(directory, extension=\".jpg\"):\n",
    "    \"\"\"\n",
    "    Renames all image files in the given directory to sequential numbers.\n",
    "\n",
    "    Args:\n",
    "        directory (str): The folder path containing the images.\n",
    "        extension (str): The file extension to filter (e.g., \".jpg\"). Default is \".jpg\".\n",
    "\n",
    "    Returns:\n",
    "        None\n",
    "    \"\"\"\n",
    "    try:\n",
    "        # List all files in the directory\n",
    "        files = [f for f in os.listdir(directory) if f.endswith(extension)]\n",
    "        \n",
    "        # Sort files to ensure consistent numbering\n",
    "        files.sort()\n",
    "\n",
    "        # Rename files sequentially\n",
    "        for index, filename in enumerate(files, start=1):\n",
    "            old_path = os.path.join(directory, filename)\n",
    "            new_name = f\"{index}{extension}\"\n",
    "            new_path = os.path.join(directory, new_name)\n",
    "            os.rename(old_path, new_path)\n",
    "\n",
    "        print(f\"Renamed {len(files)} images successfully.\")\n",
    "\n",
    "    except Exception as e:\n",
    "        print(f\"Error: {e}\")\n",
    "\n",
    "# Example usage\n",
    "directory_path = \"pic\"  # Replace with your folder path\n",
    "rename_images_to_numbers(directory_path, extension=\".jpg\")\n"
   ]
  },
  {
   "cell_type": "code",
   "execution_count": null,
   "id": "800af89e-faf2-45bb-bf7a-7269f661a07d",
   "metadata": {},
   "outputs": [],
   "source": []
  }
 ],
 "metadata": {
  "kernelspec": {
   "display_name": "Python 3 (ipykernel)",
   "language": "python",
   "name": "python3"
  },
  "language_info": {
   "codemirror_mode": {
    "name": "ipython",
    "version": 3
   },
   "file_extension": ".py",
   "mimetype": "text/x-python",
   "name": "python",
   "nbconvert_exporter": "python",
   "pygments_lexer": "ipython3",
   "version": "3.12.7"
  }
 },
 "nbformat": 4,
 "nbformat_minor": 5
}
